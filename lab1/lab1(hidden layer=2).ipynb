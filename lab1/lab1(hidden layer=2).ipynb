{
 "cells": [
  {
   "cell_type": "code",
   "execution_count": 1,
   "metadata": {},
   "outputs": [
    {
     "data": {
      "text/plain": [
       "(torch.Size([3600, 2]),\n",
       " torch.Size([3600]),\n",
       " torch.Size([400, 2]),\n",
       " torch.Size([400]))"
      ]
     },
     "execution_count": 1,
     "metadata": {},
     "output_type": "execute_result"
    }
   ],
   "source": [
    "import pandas as pd\n",
    "import torch\n",
    "from sklearn.model_selection import train_test_split\n",
    "from torch.utils.data import TensorDataset, DataLoader\n",
    "\n",
    "data = pd.read_csv('./dataset.csv')\n",
    "\n",
    "# 随机排序\n",
    "data_shuffled = data.sample(frac=1).reset_index(drop=True)\n",
    "\n",
    "X = data_shuffled[['data1', 'data2']].values\n",
    "y = data_shuffled['label'].values - 1  # 减1是因为pytorch的loss函数要求类别从0开始\n",
    "\n",
    "# 10%用于测试，90%用于训练\n",
    "X_train, X_test, y_train, y_test = train_test_split(X, y, test_size=0.1, random_state=42)\n",
    "\n",
    "X_train_tensor = torch.tensor(X_train, dtype=torch.float32)\n",
    "y_train_tensor = torch.tensor(y_train, dtype=torch.int64)\n",
    "X_test_tensor = torch.tensor(X_test, dtype=torch.float32)\n",
    "y_test_tensor = torch.tensor(y_test, dtype=torch.int64)\n",
    "\n",
    "train_dataset = TensorDataset(X_train_tensor, y_train_tensor)\n",
    "test_dataset = TensorDataset(X_test_tensor, y_test_tensor)\n",
    "\n",
    "train_loader = DataLoader(train_dataset, batch_size=64, shuffle=True)\n",
    "test_loader = DataLoader(test_dataset, batch_size=64, shuffle=False)\n",
    "\n",
    "X_train_tensor.shape, y_train_tensor.shape, X_test_tensor.shape, y_test_tensor.shape\n"
   ]
  },
  {
   "cell_type": "code",
   "execution_count": 2,
   "id": "2bdef2d6",
   "metadata": {},
   "outputs": [
    {
     "data": {
      "text/plain": [
       "GaussianClassifier(\n",
       "  (fc1): Linear(in_features=2, out_features=100, bias=True)\n",
       "  (fc2): Linear(in_features=100, out_features=100, bias=True)\n",
       "  (fc3): Linear(in_features=100, out_features=4, bias=True)\n",
       "  (relu): ReLU()\n",
       ")"
      ]
     },
     "execution_count": 2,
     "metadata": {},
     "output_type": "execute_result"
    }
   ],
   "source": [
    "import torch.nn as nn\n",
    "import torch.nn.functional as F\n",
    "\n",
    "class GaussianClassifier(nn.Module):\n",
    "    def __init__(self, input_size, hidden_size, num_classes):\n",
    "        super(GaussianClassifier, self).__init__()\n",
    "        # 第一个隐藏层\n",
    "        self.fc1 = nn.Linear(input_size, hidden_size)\n",
    "        # 新增的第二个隐藏层\n",
    "        self.fc2 = nn.Linear(hidden_size, hidden_size)\n",
    "        # 输出层\n",
    "        self.fc3 = nn.Linear(hidden_size, num_classes)\n",
    "        self.relu = nn.ReLU()\n",
    "\n",
    "    def forward(self, x):\n",
    "        out = self.fc1(x)\n",
    "        out = self.relu(out)\n",
    "        # 通过第二个隐藏层\n",
    "        out = self.fc2(out)\n",
    "        out = self.relu(out)\n",
    "        # 通过输出层\n",
    "        out = self.fc3(out)\n",
    "        return out\n",
    "\n",
    "# 超参数初始化：2个特征，100个隐藏层神经元，4个类别\n",
    "input_size = 2  \n",
    "hidden_size = 100  \n",
    "num_classes = 4  \n",
    "\n",
    "# 创建模型实例\n",
    "model = GaussianClassifier(input_size, hidden_size, num_classes)\n",
    "\n",
    "model"
   ]
  },
  {
   "cell_type": "code",
   "execution_count": 3,
   "id": "212a0c39",
   "metadata": {},
   "outputs": [
    {
     "name": "stdout",
     "output_type": "stream",
     "text": [
      "Epoch 1/25, Train Loss: 0.8429, Test Loss: 0.4501, Train Accuracy: 76.86%, Test Accuracy: 90.50%\n",
      "Epoch 2/25, Train Loss: 0.3405, Test Loss: 0.2319, Train Accuracy: 91.56%, Test Accuracy: 92.00%\n",
      "Epoch 3/25, Train Loss: 0.2478, Test Loss: 0.1914, Train Accuracy: 92.47%, Test Accuracy: 91.75%\n",
      "Epoch 4/25, Train Loss: 0.2275, Test Loss: 0.1817, Train Accuracy: 92.69%, Test Accuracy: 92.25%\n",
      "Epoch 5/25, Train Loss: 0.2232, Test Loss: 0.1841, Train Accuracy: 92.83%, Test Accuracy: 92.50%\n",
      "Epoch 6/25, Train Loss: 0.2173, Test Loss: 0.1773, Train Accuracy: 92.64%, Test Accuracy: 92.50%\n",
      "Epoch 7/25, Train Loss: 0.2163, Test Loss: 0.1921, Train Accuracy: 92.86%, Test Accuracy: 92.50%\n",
      "Epoch 8/25, Train Loss: 0.2131, Test Loss: 0.1799, Train Accuracy: 92.69%, Test Accuracy: 91.50%\n",
      "Epoch 9/25, Train Loss: 0.2129, Test Loss: 0.1807, Train Accuracy: 92.92%, Test Accuracy: 92.50%\n",
      "Epoch 10/25, Train Loss: 0.2148, Test Loss: 0.1914, Train Accuracy: 92.78%, Test Accuracy: 92.50%\n",
      "Epoch 11/25, Train Loss: 0.2106, Test Loss: 0.1893, Train Accuracy: 92.78%, Test Accuracy: 92.25%\n",
      "Epoch 12/25, Train Loss: 0.2148, Test Loss: 0.1821, Train Accuracy: 92.78%, Test Accuracy: 92.25%\n",
      "Epoch 13/25, Train Loss: 0.2147, Test Loss: 0.1842, Train Accuracy: 92.67%, Test Accuracy: 92.25%\n",
      "Epoch 14/25, Train Loss: 0.2108, Test Loss: 0.1864, Train Accuracy: 92.78%, Test Accuracy: 91.00%\n",
      "Epoch 15/25, Train Loss: 0.2134, Test Loss: 0.1813, Train Accuracy: 92.81%, Test Accuracy: 91.75%\n",
      "Epoch 16/25, Train Loss: 0.2120, Test Loss: 0.1828, Train Accuracy: 92.69%, Test Accuracy: 92.50%\n",
      "Epoch 17/25, Train Loss: 0.2111, Test Loss: 0.1927, Train Accuracy: 92.81%, Test Accuracy: 91.75%\n",
      "Epoch 18/25, Train Loss: 0.2144, Test Loss: 0.1824, Train Accuracy: 92.75%, Test Accuracy: 91.75%\n",
      "Epoch 19/25, Train Loss: 0.2147, Test Loss: 0.1856, Train Accuracy: 92.72%, Test Accuracy: 92.25%\n",
      "Epoch 20/25, Train Loss: 0.2129, Test Loss: 0.1822, Train Accuracy: 92.72%, Test Accuracy: 91.50%\n",
      "Epoch 21/25, Train Loss: 0.2122, Test Loss: 0.1925, Train Accuracy: 92.69%, Test Accuracy: 92.25%\n",
      "Epoch 22/25, Train Loss: 0.2091, Test Loss: 0.1791, Train Accuracy: 92.81%, Test Accuracy: 92.25%\n",
      "Epoch 23/25, Train Loss: 0.2130, Test Loss: 0.2040, Train Accuracy: 92.78%, Test Accuracy: 92.00%\n",
      "Epoch 24/25, Train Loss: 0.2114, Test Loss: 0.1875, Train Accuracy: 92.86%, Test Accuracy: 91.50%\n",
      "Epoch 25/25, Train Loss: 0.2087, Test Loss: 0.1899, Train Accuracy: 92.78%, Test Accuracy: 92.00%\n"
     ]
    },
    {
     "data": {
      "image/png": "[encoded data removed]",
      "text/plain": [
       "<Figure size 864x360 with 2 Axes>"
      ]
     },
     "metadata": {
      "needs_background": "light"
     },
     "output_type": "display_data"
    }
   ],
   "source": [
    "import torch.optim as optim\n",
    "import matplotlib.pyplot as plt\n",
    "\n",
    "# 定义损失函数和优化器\n",
    "criterion = nn.CrossEntropyLoss()\n",
    "optimizer = optim.Adam(model.parameters(), lr=0.001)\n",
    "\n",
    "def train_model(model, train_loader, test_loader, criterion, optimizer, num_epochs=10):\n",
    "    train_losses, test_losses = [], []\n",
    "    train_accuracies, test_accuracies = [], []\n",
    "\n",
    "    for epoch in range(num_epochs):\n",
    "        # 训练阶段\n",
    "        model.train()\n",
    "        running_loss_train = 0.0\n",
    "        correct_train = 0\n",
    "        total_train = 0\n",
    "\n",
    "        for inputs, labels in train_loader:\n",
    "            optimizer.zero_grad()\n",
    "            outputs = model(inputs)\n",
    "            loss = criterion(outputs, labels)\n",
    "            loss.backward()\n",
    "            optimizer.step()\n",
    "\n",
    "            running_loss_train += loss.item() * inputs.size(0)\n",
    "            _, predicted = torch.max(outputs, 1)\n",
    "            total_train += labels.size(0)\n",
    "            correct_train += (predicted == labels).sum().item()\n",
    "\n",
    "        epoch_loss_train = running_loss_train / len(train_loader.dataset)\n",
    "        train_accuracy = 100 * correct_train / total_train\n",
    "\n",
    "        # 测试阶段\n",
    "        model.eval()\n",
    "        running_loss_test = 0.0\n",
    "        correct_test = 0\n",
    "        total_test = 0\n",
    "        with torch.no_grad():\n",
    "            for inputs, labels in test_loader:\n",
    "                outputs = model(inputs)\n",
    "                loss = criterion(outputs, labels)\n",
    "                running_loss_test += loss.item() * inputs.size(0)\n",
    "                _, predicted = torch.max(outputs, 1)\n",
    "                total_test += labels.size(0)\n",
    "                correct_test += (predicted == labels).sum().item()\n",
    "\n",
    "        epoch_loss_test = running_loss_test / len(test_loader.dataset)\n",
    "        test_accuracy = 100 * correct_test / total_test\n",
    "\n",
    "        # 记录损失和准确率\n",
    "        train_losses.append(epoch_loss_train)\n",
    "        test_losses.append(epoch_loss_test)\n",
    "        train_accuracies.append(train_accuracy)\n",
    "        test_accuracies.append(test_accuracy)\n",
    "\n",
    "        # 打印结果\n",
    "        print(f'Epoch {epoch+1}/{num_epochs}, '\n",
    "              f'Train Loss: {epoch_loss_train:.4f}, Test Loss: {epoch_loss_test:.4f}, '\n",
    "              f'Train Accuracy: {train_accuracy:.2f}%, Test Accuracy: {test_accuracy:.2f}%')\n",
    "        \n",
    "    # 绘制Loss和acc曲线\n",
    "    epochs = range(1, num_epochs + 1)\n",
    "    plt.figure(figsize=(12, 5))\n",
    "\n",
    "    plt.subplot(1, 2, 1)\n",
    "    plt.plot(epochs, train_losses, 'r-', label='Train Loss')\n",
    "    plt.plot(epochs, test_losses, 'b-', label='Test Loss')\n",
    "    plt.title('Training and Test Loss')\n",
    "    plt.xlabel('Epochs')\n",
    "    plt.ylabel('Loss')\n",
    "    plt.legend()\n",
    "\n",
    "    plt.subplot(1, 2, 2)\n",
    "    plt.plot(epochs, train_accuracies, 'r-', label='Train Accuracy')\n",
    "    plt.plot(epochs, test_accuracies, 'b-', label='Test Accuracy')\n",
    "    plt.title('Training and Test Accuracy')\n",
    "    plt.xlabel('Epochs')\n",
    "    plt.ylabel('Accuracy')\n",
    "    plt.legend()\n",
    "\n",
    "    plt.show()\n",
    "\n",
    "# 训练\n",
    "train_model(model, train_loader, test_loader, criterion, optimizer, num_epochs=25)"
   ]
  }
 ],
 "metadata": {
  "kernelspec": {
   "display_name": "pytorch",
   "language": "python",
   "name": "python3"
  },
  "language_info": {
   "codemirror_mode": {
    "name": "ipython",
    "version": 3
   },
   "file_extension": ".py",
   "mimetype": "text/x-python",
   "name": "python",
   "nbconvert_exporter": "python",
   "pygments_lexer": "ipython3",
   "version": "3.6.13"
  }
 },
 "nbformat": 4,
 "nbformat_minor": 5
}
